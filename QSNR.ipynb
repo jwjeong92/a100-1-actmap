{
 "cells": [
  {
   "cell_type": "code",
   "execution_count": 1,
   "metadata": {},
   "outputs": [
    {
     "name": "stderr",
     "output_type": "stream",
     "text": [
      "/home/jwjeong/anaconda3/envs/quant/lib/python3.8/site-packages/tqdm/auto.py:21: TqdmWarning: IProgress not found. Please update jupyter and ipywidgets. See https://ipywidgets.readthedocs.io/en/stable/user_install.html\n",
      "  from .autonotebook import tqdm as notebook_tqdm\n",
      "/home/jwjeong/anaconda3/envs/quant/lib/python3.8/site-packages/torch/_utils.py:831: UserWarning: TypedStorage is deprecated. It will be removed in the future and UntypedStorage will be the only storage class. This should only matter to you if you are using storages directly.  To access UntypedStorage directly, use tensor.untyped_storage() instead of tensor.storage()\n",
      "  return self.fget.__get__(instance, owner)()\n"
     ]
    }
   ],
   "source": [
    "from transformers import AutoModelForCausalLM\n",
    "from copy import deepcopy\n",
    "\n",
    "model_id = 'facebook/opt-125m'\n",
    "model = AutoModelForCausalLM.from_pretrained(model_id)\n",
    "cp_model = deepcopy(model)"
   ]
  },
  {
   "cell_type": "code",
   "execution_count": 2,
   "metadata": {},
   "outputs": [],
   "source": [
    "import torch\n",
    "def l2_norm(x):\n",
    "    return torch.linalg.matrix_norm(x)"
   ]
  },
  {
   "cell_type": "code",
   "execution_count": 3,
   "metadata": {},
   "outputs": [],
   "source": [
    "import numpy as np\n",
    "def QSNR(tensor1, tensor2):\n",
    "    ratio = l2_norm(tensor1-tensor2) / l2_norm(tensor2)\n",
    "    return -10*torch.log(ratio)\n",
    "    "
   ]
  },
  {
   "cell_type": "code",
   "execution_count": 9,
   "metadata": {},
   "outputs": [],
   "source": [
    "from quant import quant_unpack, dequant_unpack, quant, dequant\n",
    "bits = 4\n",
    "gs = 128\n",
    "scale, zero, qs = quant(bits, gs, cp_model)\n",
    "q_x = dequant(scale, zero, qs, gs, bits)\n",
    "QSNRs = {}\n",
    "for key in q_x.keys():\n",
    "    if key.split('.')[-1] != 'lm_head':\n",
    "        if key.split('.')[-1] == 'fc1':\n",
    "            weight = key+'.weight'\n",
    "            QSNRs[key] = round(QSNR(q_x[key], cp_model.state_dict()[weight]).item(), 3)"
   ]
  },
  {
   "cell_type": "code",
   "execution_count": 10,
   "metadata": {},
   "outputs": [
    {
     "data": {
      "text/plain": [
       "{'model.decoder.layers.0.fc1': 23.362,\n",
       " 'model.decoder.layers.1.fc1': 22.23,\n",
       " 'model.decoder.layers.2.fc1': 21.902,\n",
       " 'model.decoder.layers.3.fc1': 22.178,\n",
       " 'model.decoder.layers.4.fc1': 22.654,\n",
       " 'model.decoder.layers.5.fc1': 22.833,\n",
       " 'model.decoder.layers.6.fc1': 22.797,\n",
       " 'model.decoder.layers.7.fc1': 22.787,\n",
       " 'model.decoder.layers.8.fc1': 22.845,\n",
       " 'model.decoder.layers.9.fc1': 22.924,\n",
       " 'model.decoder.layers.10.fc1': 22.972,\n",
       " 'model.decoder.layers.11.fc1': 22.594}"
      ]
     },
     "execution_count": 10,
     "metadata": {},
     "output_type": "execute_result"
    }
   ],
   "source": [
    "QSNRs"
   ]
  }
 ],
 "metadata": {
  "kernelspec": {
   "display_name": "quant",
   "language": "python",
   "name": "python3"
  },
  "language_info": {
   "codemirror_mode": {
    "name": "ipython",
    "version": 3
   },
   "file_extension": ".py",
   "mimetype": "text/x-python",
   "name": "python",
   "nbconvert_exporter": "python",
   "pygments_lexer": "ipython3",
   "version": "3.8.18"
  }
 },
 "nbformat": 4,
 "nbformat_minor": 2
}
