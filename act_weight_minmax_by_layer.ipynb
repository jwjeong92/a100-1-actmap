{
 "cells": [
  {
   "cell_type": "code",
   "execution_count": 8,
   "metadata": {},
   "outputs": [
    {
     "name": "stdout",
     "output_type": "stream",
     "text": [
      "517\n"
     ]
    }
   ],
   "source": [
    "from transformers import AutoModelForCausalLM\n",
    "from dequant_gptq import get_pytorch_bin\n",
    "import torch\n",
    "import os\n",
    "cur_dir = os.getcwd()\n",
    "deq_model_dir = 'dequant_model'\n",
    "opt = get_pytorch_bin('/home/jwjeong/.cache/huggingface/hub/models--jwjeong--opt-6.7b-4bit-128g/snapshots/1ea4ce8577b3993ebca6a7308c04a6ec72a4148b/gptq_model-4bit-128g.bin')"
   ]
  },
  {
   "cell_type": "code",
   "execution_count": 9,
   "metadata": {},
   "outputs": [],
   "source": [
    "def plot_minmax(state_dict):\n",
    "    linear_opt = [\n",
    "        'k_proj',\n",
    "        'q_proj',\n",
    "        'v_proj',\n",
    "        'out_proj',\n",
    "        'fc1',\n",
    "        'fc2'\n",
    "    ]\n",
    "    layer_weight_min = {}\n",
    "    layer_weight_max = {}\n",
    "    for key in state_dict.keys():\n",
    "        if key.split('.')[-2] in linear_opt:\n",
    "            tensor = state_dict[key]\n",
    "            layer_num = int(key.split('.')[3])\n",
    "            if layer_num in layer_weight_min:\n",
    "                layer_weight_min[layer_num] = tensor.min() if tensor.min() < layer_weight_min[layer_num] else layer_weight_min[layer_num]\n",
    "                layer_weight_max[layer_num] = tensor.max() if tensor.max() > layer_weight_max[layer_num] else layer_weight_max[layer_num]\n",
    "            else:\n",
    "                layer_weight_min[layer_num] = tensor.min()\n",
    "                layer_weight_max[layer_num] = tensor.max()\n",
    "\n",
    "    print(f'layer_max: {layer_weight_max}')\n",
    "    print(f'layer_min: {layer_weight_min}')\n",
    "\n",
    "    y_min = []\n",
    "    y_max = []\n",
    "    for key in layer_weight_min.keys():\n",
    "        y_min.append(layer_weight_min[key])\n",
    "        y_max.append(layer_weight_max[key])\n",
    "\n",
    "    x = list(range(len(y_min)))\n",
    "\n",
    "    import matplotlib.pyplot as plt\n",
    "    plt.plot(x, y_min)\n",
    "    plt.plot(x, y_max)"
   ]
  },
  {
   "cell_type": "code",
   "execution_count": 10,
   "metadata": {},
   "outputs": [],
   "source": [
    "opt"
   ]
  },
  {
   "cell_type": "code",
   "execution_count": 37,
   "metadata": {},
   "outputs": [
    {
     "name": "stdout",
     "output_type": "stream",
     "text": [
      "layer_max: {0: tensor(0.9390, dtype=torch.float16), 1: tensor(0.9424, dtype=torch.float16), 2: tensor(0.9331, dtype=torch.float16), 3: tensor(0.7979, dtype=torch.float16), 4: tensor(0.7520, dtype=torch.float16), 5: tensor(0.7324, dtype=torch.float16), 6: tensor(0.6538, dtype=torch.float16), 7: tensor(1., dtype=torch.float16), 8: tensor(1., dtype=torch.float16), 9: tensor(1., dtype=torch.float16), 10: tensor(1., dtype=torch.float16), 11: tensor(1.4219, dtype=torch.float16)}\n",
      "layer_min: {0: tensor(-1.1582, dtype=torch.float16), 1: tensor(-1.2744, dtype=torch.float16), 2: tensor(-1.2100, dtype=torch.float16), 3: tensor(-1.1299, dtype=torch.float16), 4: tensor(-1.1143, dtype=torch.float16), 5: tensor(-1.1084, dtype=torch.float16), 6: tensor(-0.9414, dtype=torch.float16), 7: tensor(-1., dtype=torch.float16), 8: tensor(-1., dtype=torch.float16), 9: tensor(-1., dtype=torch.float16), 10: tensor(-1., dtype=torch.float16), 11: tensor(-1.2773, dtype=torch.float16)}\n",
      "layer_max: {0: tensor(0.9390, dtype=torch.float16), 1: tensor(0.9424, dtype=torch.float16), 2: tensor(0.9331, dtype=torch.float16), 3: tensor(0.7979, dtype=torch.float16), 4: tensor(0.7520, dtype=torch.float16), 5: tensor(0.7324, dtype=torch.float16), 6: tensor(0.6538, dtype=torch.float16), 7: tensor(1., dtype=torch.float16), 8: tensor(1., dtype=torch.float16), 9: tensor(1., dtype=torch.float16), 10: tensor(1., dtype=torch.float16), 11: tensor(1.4219, dtype=torch.float16)}\n",
      "layer_min: {0: tensor(-1.1582, dtype=torch.float16), 1: tensor(-1.2744, dtype=torch.float16), 2: tensor(-1.2100, dtype=torch.float16), 3: tensor(-1.1299, dtype=torch.float16), 4: tensor(-1.1143, dtype=torch.float16), 5: tensor(-1.1084, dtype=torch.float16), 6: tensor(-0.9414, dtype=torch.float16), 7: tensor(-1., dtype=torch.float16), 8: tensor(-1., dtype=torch.float16), 9: tensor(-1., dtype=torch.float16), 10: tensor(-1., dtype=torch.float16), 11: tensor(-1.2773, dtype=torch.float16)}\n"
     ]
    },
    {
     "data": {
      "image/png": "[encoded data removed]",
      "text/plain": [
       "<Figure size 640x480 with 1 Axes>"
      ]
     },
     "metadata": {},
     "output_type": "display_data"
    }
   ],
   "source": [
    "plot_minmax(orig_model.state_dict())\n",
    "plot_minmax(quant_model)"
   ]
  },
  {
   "cell_type": "code",
   "execution_count": 26,
   "metadata": {},
   "outputs": [
    {
     "name": "stdout",
     "output_type": "stream",
     "text": [
      "layer_max: {0: tensor(0.9390, dtype=torch.float16), 1: tensor(0.9424, dtype=torch.float16), 2: tensor(0.9331, dtype=torch.float16), 3: tensor(0.7979, dtype=torch.float16), 4: tensor(0.7520, dtype=torch.float16), 5: tensor(0.7324, dtype=torch.float16), 6: tensor(0.6538, dtype=torch.float16), 7: tensor(1., dtype=torch.float16), 8: tensor(1., dtype=torch.float16), 9: tensor(1., dtype=torch.float16), 10: tensor(1., dtype=torch.float16), 11: tensor(1.4219, dtype=torch.float16)}\n",
      "layer_min: {0: tensor(-1.1582, dtype=torch.float16), 1: tensor(-1.2744, dtype=torch.float16), 2: tensor(-1.2100, dtype=torch.float16), 3: tensor(-1.1299, dtype=torch.float16), 4: tensor(-1.1143, dtype=torch.float16), 5: tensor(-1.1084, dtype=torch.float16), 6: tensor(-0.9414, dtype=torch.float16), 7: tensor(-1., dtype=torch.float16), 8: tensor(-1., dtype=torch.float16), 9: tensor(-1., dtype=torch.float16), 10: tensor(-1., dtype=torch.float16), 11: tensor(-1.2773, dtype=torch.float16)}\n"
     ]
    }
   ],
   "source": []
  },
  {
   "cell_type": "code",
   "execution_count": 1,
   "metadata": {},
   "outputs": [
    {
     "name": "stderr",
     "output_type": "stream",
     "text": [
      "/home/jwjeong/anaconda3/envs/custom/lib/python3.8/site-packages/tqdm/auto.py:21: TqdmWarning: IProgress not found. Please update jupyter and ipywidgets. See https://ipywidgets.readthedocs.io/en/stable/user_install.html\n",
      "  from .autonotebook import tqdm as notebook_tqdm\n"
     ]
    }
   ],
   "source": [
    "from auto_gptq import AutoGPTQForCausalLM\n",
    "\n",
    "repo_llama = 'TheBloke/Llama-2-7B-GPTQ'\n",
    "repo_relu_llama = 'jwjeong/ReluLLaMA-7B-4bit-gptq-128g'\n",
    "repo_opt_7b = 'jwjeong/opt-6.7b-4bit-128g'"
   ]
  },
  {
   "cell_type": "code",
   "execution_count": 2,
   "metadata": {},
   "outputs": [
    {
     "name": "stderr",
     "output_type": "stream",
     "text": [
      "INFO - You passed a model that is compatible with the Marlin int4*fp16 GPTQ kernel but use_marlin is False. We recommend using `use_marlin=True` to use the optimized Marlin kernels for inference. Example: `model = AutoGPTQForCausalLM.from_quantized(..., use_marlin=True)`.\n",
      "INFO - The layer lm_head is not quantized.\n",
      "Skipping module injection for FusedLlamaMLPForQuantizedModel as currently not supported with use_triton=False.\n"
     ]
    }
   ],
   "source": [
    "model_llama = AutoGPTQForCausalLM.from_quantized(repo_llama)"
   ]
  },
  {
   "cell_type": "code",
   "execution_count": 12,
   "metadata": {},
   "outputs": [],
   "source": [
    "qweight = model_llama.model.model.layers[0].mlp.down_proj.qweight\n",
    "scales = model_llama.model.model.layers[0].mlp.down_proj.scales\n",
    "qzeros = model_llama.model.model.layers[0].mlp.down_proj.qzeros\n",
    "g_idx = model_llama.model.model.layers[0].mlp.down_proj.g_idx"
   ]
  },
  {
   "cell_type": "code",
   "execution_count": 15,
   "metadata": {},
   "outputs": [
    {
     "name": "stdout",
     "output_type": "stream",
     "text": [
      "torch.Size([1376, 4096])\n",
      "torch.Size([86, 4096])\n",
      "torch.Size([86, 512])\n",
      "torch.Size([11008])\n"
     ]
    }
   ],
   "source": [
    "print(qweight.size())\n",
    "print(scales.size())\n",
    "print(qzeros.size()) # 4096 / \n",
    "print(g_idx.size()) # 86 * 128"
   ]
  },
  {
   "cell_type": "code",
   "execution_count": 3,
   "metadata": {},
   "outputs": [
    {
     "name": "stderr",
     "output_type": "stream",
     "text": [
      "config.json: 100%|██████████| 725/725 [00:00<00:00, 312kB/s]\n",
      "quantize_config.json: 100%|██████████| 211/211 [00:00<00:00, 238kB/s]\n",
      "gptq_model-4bit-128g.safetensors: 100%|██████████| 3.90G/3.90G [02:24<00:00, 27.0MB/s]\n",
      "INFO - The layer lm_head is not quantized.\n",
      "Skipping module injection for FusedLlamaMLPForQuantizedModel as currently not supported with use_triton=False.\n"
     ]
    }
   ],
   "source": [
    "model_relu_llama = AutoGPTQForCausalLM.from_quantized(repo_relu_llama)"
   ]
  },
  {
   "cell_type": "code",
   "execution_count": 4,
   "metadata": {},
   "outputs": [
    {
     "name": "stderr",
     "output_type": "stream",
     "text": [
      "gptq_model-4bit-128g.safetensors: 100%|██████████| 4.20G/4.20G [01:48<00:00, 38.6MB/s]\n",
      "INFO - The layer lm_head is not quantized.\n",
      "WARNING - OPTGPTQForCausalLM hasn't fused attention module yet, will skip inject fused attention.                \n",
      "WARNING - OPTGPTQForCausalLM hasn't fused mlp module yet, will skip inject fused mlp.\n"
     ]
    },
    {
     "ename": "OutOfMemoryError",
     "evalue": "CUDA out of memory. Tried to allocate 1.13 GiB (GPU 4; 3.81 GiB total capacity; 3.58 GiB already allocated; 120.00 MiB free; 3.63 GiB reserved in total by PyTorch) If reserved memory is >> allocated memory try setting max_split_size_mb to avoid fragmentation.  See documentation for Memory Management and PYTORCH_CUDA_ALLOC_CONF",
     "output_type": "error",
     "traceback": [
      "\u001b[0;31m---------------------------------------------------------------------------\u001b[0m",
      "\u001b[0;31mOutOfMemoryError\u001b[0m                          Traceback (most recent call last)",
      "Cell \u001b[0;32mIn[4], line 1\u001b[0m\n\u001b[0;32m----> 1\u001b[0m model_opt_7b \u001b[38;5;241m=\u001b[39m \u001b[43mAutoGPTQForCausalLM\u001b[49m\u001b[38;5;241;43m.\u001b[39;49m\u001b[43mfrom_quantized\u001b[49m\u001b[43m(\u001b[49m\u001b[43mrepo_opt_7b\u001b[49m\u001b[43m)\u001b[49m\n",
      "File \u001b[0;32m~/custom/AutoGPTQ/auto_gptq/modeling/auto.py:133\u001b[0m, in \u001b[0;36mAutoGPTQForCausalLM.from_quantized\u001b[0;34m(cls, model_name_or_path, device_map, max_memory, device, low_cpu_mem_usage, use_triton, inject_fused_attention, inject_fused_mlp, use_cuda_fp16, quantize_config, model_basename, use_safetensors, trust_remote_code, warmup_triton, trainable, disable_exllama, disable_exllamav2, use_marlin, **kwargs)\u001b[0m\n\u001b[1;32m    127\u001b[0m \u001b[38;5;66;03m# TODO: do we need this filtering of kwargs? @PanQiWei is there a reason we can't just pass all kwargs?\u001b[39;00m\n\u001b[1;32m    128\u001b[0m keywords \u001b[38;5;241m=\u001b[39m {\n\u001b[1;32m    129\u001b[0m     key: kwargs[key]\n\u001b[1;32m    130\u001b[0m     \u001b[38;5;28;01mfor\u001b[39;00m key \u001b[38;5;129;01min\u001b[39;00m \u001b[38;5;28mlist\u001b[39m(signature(quant_func)\u001b[38;5;241m.\u001b[39mparameters\u001b[38;5;241m.\u001b[39mkeys()) \u001b[38;5;241m+\u001b[39m huggingface_kwargs\n\u001b[1;32m    131\u001b[0m     \u001b[38;5;28;01mif\u001b[39;00m key \u001b[38;5;129;01min\u001b[39;00m kwargs\n\u001b[1;32m    132\u001b[0m }\n\u001b[0;32m--> 133\u001b[0m \u001b[38;5;28;01mreturn\u001b[39;00m \u001b[43mquant_func\u001b[49m\u001b[43m(\u001b[49m\n\u001b[1;32m    134\u001b[0m \u001b[43m    \u001b[49m\u001b[43mmodel_name_or_path\u001b[49m\u001b[38;5;241;43m=\u001b[39;49m\u001b[43mmodel_name_or_path\u001b[49m\u001b[43m,\u001b[49m\n\u001b[1;32m    135\u001b[0m \u001b[43m    \u001b[49m\u001b[43mdevice_map\u001b[49m\u001b[38;5;241;43m=\u001b[39;49m\u001b[43mdevice_map\u001b[49m\u001b[43m,\u001b[49m\n\u001b[1;32m    136\u001b[0m \u001b[43m    \u001b[49m\u001b[43mmax_memory\u001b[49m\u001b[38;5;241;43m=\u001b[39;49m\u001b[43mmax_memory\u001b[49m\u001b[43m,\u001b[49m\n\u001b[1;32m    137\u001b[0m \u001b[43m    \u001b[49m\u001b[43mdevice\u001b[49m\u001b[38;5;241;43m=\u001b[39;49m\u001b[43mdevice\u001b[49m\u001b[43m,\u001b[49m\n\u001b[1;32m    138\u001b[0m \u001b[43m    \u001b[49m\u001b[43mlow_cpu_mem_usage\u001b[49m\u001b[38;5;241;43m=\u001b[39;49m\u001b[43mlow_cpu_mem_usage\u001b[49m\u001b[43m,\u001b[49m\n\u001b[1;32m    139\u001b[0m \u001b[43m    \u001b[49m\u001b[43muse_triton\u001b[49m\u001b[38;5;241;43m=\u001b[39;49m\u001b[43muse_triton\u001b[49m\u001b[43m,\u001b[49m\n\u001b[1;32m    140\u001b[0m \u001b[43m    \u001b[49m\u001b[43minject_fused_attention\u001b[49m\u001b[38;5;241;43m=\u001b[39;49m\u001b[43minject_fused_attention\u001b[49m\u001b[43m,\u001b[49m\n\u001b[1;32m    141\u001b[0m \u001b[43m    \u001b[49m\u001b[43minject_fused_mlp\u001b[49m\u001b[38;5;241;43m=\u001b[39;49m\u001b[43minject_fused_mlp\u001b[49m\u001b[43m,\u001b[49m\n\u001b[1;32m    142\u001b[0m \u001b[43m    \u001b[49m\u001b[43muse_cuda_fp16\u001b[49m\u001b[38;5;241;43m=\u001b[39;49m\u001b[43muse_cuda_fp16\u001b[49m\u001b[43m,\u001b[49m\n\u001b[1;32m    143\u001b[0m \u001b[43m    \u001b[49m\u001b[43mquantize_config\u001b[49m\u001b[38;5;241;43m=\u001b[39;49m\u001b[43mquantize_config\u001b[49m\u001b[43m,\u001b[49m\n\u001b[1;32m    144\u001b[0m \u001b[43m    \u001b[49m\u001b[43mmodel_basename\u001b[49m\u001b[38;5;241;43m=\u001b[39;49m\u001b[43mmodel_basename\u001b[49m\u001b[43m,\u001b[49m\n\u001b[1;32m    145\u001b[0m \u001b[43m    \u001b[49m\u001b[43muse_safetensors\u001b[49m\u001b[38;5;241;43m=\u001b[39;49m\u001b[43muse_safetensors\u001b[49m\u001b[43m,\u001b[49m\n\u001b[1;32m    146\u001b[0m \u001b[43m    \u001b[49m\u001b[43mtrust_remote_code\u001b[49m\u001b[38;5;241;43m=\u001b[39;49m\u001b[43mtrust_remote_code\u001b[49m\u001b[43m,\u001b[49m\n\u001b[1;32m    147\u001b[0m \u001b[43m    \u001b[49m\u001b[43mwarmup_triton\u001b[49m\u001b[38;5;241;43m=\u001b[39;49m\u001b[43mwarmup_triton\u001b[49m\u001b[43m,\u001b[49m\n\u001b[1;32m    148\u001b[0m \u001b[43m    \u001b[49m\u001b[43mtrainable\u001b[49m\u001b[38;5;241;43m=\u001b[39;49m\u001b[43mtrainable\u001b[49m\u001b[43m,\u001b[49m\n\u001b[1;32m    149\u001b[0m \u001b[43m    \u001b[49m\u001b[43mdisable_exllama\u001b[49m\u001b[38;5;241;43m=\u001b[39;49m\u001b[43mdisable_exllama\u001b[49m\u001b[43m,\u001b[49m\n\u001b[1;32m    150\u001b[0m \u001b[43m    \u001b[49m\u001b[43mdisable_exllamav2\u001b[49m\u001b[38;5;241;43m=\u001b[39;49m\u001b[43mdisable_exllamav2\u001b[49m\u001b[43m,\u001b[49m\n\u001b[1;32m    151\u001b[0m \u001b[43m    \u001b[49m\u001b[43muse_marlin\u001b[49m\u001b[38;5;241;43m=\u001b[39;49m\u001b[43muse_marlin\u001b[49m\u001b[43m,\u001b[49m\n\u001b[1;32m    152\u001b[0m \u001b[43m    \u001b[49m\u001b[38;5;241;43m*\u001b[39;49m\u001b[38;5;241;43m*\u001b[39;49m\u001b[43mkeywords\u001b[49m\u001b[43m,\u001b[49m\n\u001b[1;32m    153\u001b[0m \u001b[43m\u001b[49m\u001b[43m)\u001b[49m\n",
      "File \u001b[0;32m~/custom/AutoGPTQ/auto_gptq/modeling/_base.py:1339\u001b[0m, in \u001b[0;36mBaseGPTQForCausalLM.from_quantized\u001b[0;34m(cls, model_name_or_path, device_map, max_memory, device, low_cpu_mem_usage, use_triton, use_qigen, use_marlin, torch_dtype, inject_fused_attention, inject_fused_mlp, use_cuda_fp16, quantize_config, model_basename, use_safetensors, trust_remote_code, warmup_triton, trainable, disable_exllama, disable_exllamav2, **kwargs)\u001b[0m\n\u001b[1;32m   1336\u001b[0m         \u001b[38;5;28mcls\u001b[39m\u001b[38;5;241m.\u001b[39mfused_mlp_module_type\u001b[38;5;241m.\u001b[39minject_to_model(model, use_triton\u001b[38;5;241m=\u001b[39muse_triton)\n\u001b[1;32m   1338\u001b[0m \u001b[38;5;66;03m# Any post-initialization that require device information, for example buffers initialization on device.\u001b[39;00m\n\u001b[0;32m-> 1339\u001b[0m model \u001b[38;5;241m=\u001b[39m \u001b[43mautogptq_post_init\u001b[49m\u001b[43m(\u001b[49m\u001b[43mmodel\u001b[49m\u001b[43m,\u001b[49m\u001b[43m \u001b[49m\u001b[43muse_act_order\u001b[49m\u001b[38;5;241;43m=\u001b[39;49m\u001b[43mquantize_config\u001b[49m\u001b[38;5;241;43m.\u001b[39;49m\u001b[43mdesc_act\u001b[49m\u001b[43m)\u001b[49m\n\u001b[1;32m   1341\u001b[0m model\u001b[38;5;241m.\u001b[39meval()\n\u001b[1;32m   1343\u001b[0m \u001b[38;5;66;03m# == step6: (optional) warmup triton == #\u001b[39;00m\n",
      "File \u001b[0;32m~/custom/AutoGPTQ/auto_gptq/modeling/_utils.py:492\u001b[0m, in \u001b[0;36mautogptq_post_init\u001b[0;34m(model, use_act_order, max_input_length)\u001b[0m\n\u001b[1;32m    490\u001b[0m         \u001b[38;5;28;01mif\u001b[39;00m \u001b[38;5;28mhasattr\u001b[39m(submodule, \u001b[38;5;124m\"\u001b[39m\u001b[38;5;124mQUANT_TYPE\u001b[39m\u001b[38;5;124m\"\u001b[39m) \u001b[38;5;129;01mand\u001b[39;00m submodule\u001b[38;5;241m.\u001b[39mQUANT_TYPE \u001b[38;5;241m==\u001b[39m \u001b[38;5;124m\"\u001b[39m\u001b[38;5;124mexllamav2\u001b[39m\u001b[38;5;124m\"\u001b[39m:\n\u001b[1;32m    491\u001b[0m             device \u001b[38;5;241m=\u001b[39m submodule\u001b[38;5;241m.\u001b[39mqweight\u001b[38;5;241m.\u001b[39mdevice\n\u001b[0;32m--> 492\u001b[0m             \u001b[43msubmodule\u001b[49m\u001b[38;5;241;43m.\u001b[39;49m\u001b[43mpost_init\u001b[49m\u001b[43m(\u001b[49m\u001b[43mtemp_dq\u001b[49m\u001b[38;5;241;43m=\u001b[39;49m\u001b[43mmodel\u001b[49m\u001b[38;5;241;43m.\u001b[39;49m\u001b[43mdevice_tensors\u001b[49m\u001b[43m[\u001b[49m\u001b[43mdevice\u001b[49m\u001b[43m]\u001b[49m\u001b[43m)\u001b[49m\n\u001b[1;32m    493\u001b[0m torch\u001b[38;5;241m.\u001b[39mcuda\u001b[38;5;241m.\u001b[39mempty_cache()\n\u001b[1;32m    495\u001b[0m \u001b[38;5;28;01mreturn\u001b[39;00m model\n",
      "File \u001b[0;32m~/custom/AutoGPTQ/auto_gptq/nn_modules/qlinear/qlinear_exllamav2.py:178\u001b[0m, in \u001b[0;36mQuantLinear.post_init\u001b[0;34m(self, temp_dq)\u001b[0m\n\u001b[1;32m    171\u001b[0m \u001b[38;5;28;01massert\u001b[39;00m \u001b[38;5;28mself\u001b[39m\u001b[38;5;241m.\u001b[39mqweight\u001b[38;5;241m.\u001b[39mdevice\u001b[38;5;241m.\u001b[39mindex \u001b[38;5;129;01mis\u001b[39;00m \u001b[38;5;129;01mnot\u001b[39;00m \u001b[38;5;28;01mNone\u001b[39;00m\n\u001b[1;32m    172\u001b[0m \u001b[38;5;28mself\u001b[39m\u001b[38;5;241m.\u001b[39mq_tensors \u001b[38;5;241m=\u001b[39m {\n\u001b[1;32m    173\u001b[0m     \u001b[38;5;124m\"\u001b[39m\u001b[38;5;124mqweight\u001b[39m\u001b[38;5;124m\"\u001b[39m: \u001b[38;5;28mself\u001b[39m\u001b[38;5;241m.\u001b[39mqweight,\n\u001b[1;32m    174\u001b[0m     \u001b[38;5;124m\"\u001b[39m\u001b[38;5;124mqzeros\u001b[39m\u001b[38;5;124m\"\u001b[39m: \u001b[38;5;28mself\u001b[39m\u001b[38;5;241m.\u001b[39mqzeros,\n\u001b[1;32m    175\u001b[0m     \u001b[38;5;124m\"\u001b[39m\u001b[38;5;124mscales\u001b[39m\u001b[38;5;124m\"\u001b[39m: \u001b[38;5;28mself\u001b[39m\u001b[38;5;241m.\u001b[39mscales,\n\u001b[1;32m    176\u001b[0m     \u001b[38;5;124m\"\u001b[39m\u001b[38;5;124mg_idx\u001b[39m\u001b[38;5;124m\"\u001b[39m: \u001b[38;5;28mself\u001b[39m\u001b[38;5;241m.\u001b[39mg_idx,\n\u001b[1;32m    177\u001b[0m }\n\u001b[0;32m--> 178\u001b[0m temp_dq \u001b[38;5;241m=\u001b[39m \u001b[43mtemp_dq\u001b[49m\u001b[38;5;241;43m.\u001b[39;49m\u001b[43mget_scratch_slice\u001b[49m\u001b[43m(\u001b[49m\u001b[38;5;28;43mself\u001b[39;49m\u001b[38;5;241;43m.\u001b[39;49m\u001b[43mtemp_dq_size\u001b[49m\u001b[43m(\u001b[49m\u001b[43m)\u001b[49m\u001b[43m)\u001b[49m\n\u001b[1;32m    179\u001b[0m \u001b[38;5;28mself\u001b[39m\u001b[38;5;241m.\u001b[39mq_handle \u001b[38;5;241m=\u001b[39m ext_make_q_matrix(\u001b[38;5;28mself\u001b[39m\u001b[38;5;241m.\u001b[39mq_tensors, temp_dq)\n",
      "File \u001b[0;32m~/custom/AutoGPTQ/auto_gptq/nn_modules/qlinear/qlinear_exllamav2.py:224\u001b[0m, in \u001b[0;36mExLlamaV2DeviceTensors.get_scratch_slice\u001b[0;34m(self, size_bytes)\u001b[0m\n\u001b[1;32m    222\u001b[0m \u001b[38;5;28;01mdef\u001b[39;00m \u001b[38;5;21mget_scratch_slice\u001b[39m(\u001b[38;5;28mself\u001b[39m, size_bytes):\n\u001b[1;32m    223\u001b[0m     \u001b[38;5;28;01mif\u001b[39;00m \u001b[38;5;28mself\u001b[39m\u001b[38;5;241m.\u001b[39mscratch \u001b[38;5;129;01mis\u001b[39;00m \u001b[38;5;28;01mNone\u001b[39;00m:\n\u001b[0;32m--> 224\u001b[0m         \u001b[38;5;28;43mself\u001b[39;49m\u001b[38;5;241;43m.\u001b[39;49m\u001b[43mprepare\u001b[49m\u001b[43m(\u001b[49m\u001b[43m)\u001b[49m\n\u001b[1;32m    226\u001b[0m     size_bytes \u001b[38;5;241m=\u001b[39m ((size_bytes \u001b[38;5;241m+\u001b[39m \u001b[38;5;241m127\u001b[39m) \u001b[38;5;241m/\u001b[39m\u001b[38;5;241m/\u001b[39m \u001b[38;5;241m128\u001b[39m) \u001b[38;5;241m*\u001b[39m \u001b[38;5;241m128\u001b[39m\n\u001b[1;32m    227\u001b[0m     size_half \u001b[38;5;241m=\u001b[39m size_bytes \u001b[38;5;241m/\u001b[39m\u001b[38;5;241m/\u001b[39m \u001b[38;5;241m2\u001b[39m\n",
      "File \u001b[0;32m~/custom/AutoGPTQ/auto_gptq/nn_modules/qlinear/qlinear_exllamav2.py:216\u001b[0m, in \u001b[0;36mExLlamaV2DeviceTensors.prepare\u001b[0;34m(self)\u001b[0m\n\u001b[1;32m    215\u001b[0m \u001b[38;5;28;01mdef\u001b[39;00m \u001b[38;5;21mprepare\u001b[39m(\u001b[38;5;28mself\u001b[39m):\n\u001b[0;32m--> 216\u001b[0m     \u001b[38;5;28mself\u001b[39m\u001b[38;5;241m.\u001b[39mscratch \u001b[38;5;241m=\u001b[39m \u001b[43mtorch\u001b[49m\u001b[38;5;241;43m.\u001b[39;49m\u001b[43mempty\u001b[49m\u001b[43m(\u001b[49m\n\u001b[1;32m    217\u001b[0m \u001b[43m        \u001b[49m\u001b[43m(\u001b[49m\u001b[38;5;28;43mself\u001b[39;49m\u001b[38;5;241;43m.\u001b[39;49m\u001b[43mscratch_bytes\u001b[49m\u001b[43m \u001b[49m\u001b[38;5;241;43m/\u001b[39;49m\u001b[38;5;241;43m/\u001b[39;49m\u001b[43m \u001b[49m\u001b[38;5;241;43m2\u001b[39;49m\u001b[43m,\u001b[49m\u001b[43m)\u001b[49m\u001b[43m,\u001b[49m\n\u001b[1;32m    218\u001b[0m \u001b[43m        \u001b[49m\u001b[43mdtype\u001b[49m\u001b[38;5;241;43m=\u001b[39;49m\u001b[43mtorch\u001b[49m\u001b[38;5;241;43m.\u001b[39;49m\u001b[43mhalf\u001b[49m\u001b[43m,\u001b[49m\n\u001b[1;32m    219\u001b[0m \u001b[43m        \u001b[49m\u001b[43mdevice\u001b[49m\u001b[38;5;241;43m=\u001b[39;49m\u001b[43m_torch_device\u001b[49m\u001b[43m(\u001b[49m\u001b[38;5;28;43mself\u001b[39;49m\u001b[38;5;241;43m.\u001b[39;49m\u001b[43mdevice_idx\u001b[49m\u001b[43m)\u001b[49m\u001b[43m,\u001b[49m\n\u001b[1;32m    220\u001b[0m \u001b[43m    \u001b[49m\u001b[43m)\u001b[49m\n",
      "\u001b[0;31mOutOfMemoryError\u001b[0m: CUDA out of memory. Tried to allocate 1.13 GiB (GPU 4; 3.81 GiB total capacity; 3.58 GiB already allocated; 120.00 MiB free; 3.63 GiB reserved in total by PyTorch) If reserved memory is >> allocated memory try setting max_split_size_mb to avoid fragmentation.  See documentation for Memory Management and PYTORCH_CUDA_ALLOC_CONF"
     ]
    }
   ],
   "source": [
    "model_opt_7b = AutoGPTQForCausalLM.from_quantized(repo_opt_7b)"
   ]
  }
 ],
 "metadata": {
  "kernelspec": {
   "display_name": "custom",
   "language": "python",
   "name": "python3"
  },
  "language_info": {
   "codemirror_mode": {
    "name": "ipython",
    "version": 3
   },
   "file_extension": ".py",
   "mimetype": "text/x-python",
   "name": "python",
   "nbconvert_exporter": "python",
   "pygments_lexer": "ipython3",
   "version": "3.8.18"
  }
 },
 "nbformat": 4,
 "nbformat_minor": 2
}
